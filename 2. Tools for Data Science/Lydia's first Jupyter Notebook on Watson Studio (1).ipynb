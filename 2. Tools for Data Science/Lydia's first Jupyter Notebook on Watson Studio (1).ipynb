{
 "cells": [
  {
   "cell_type": "markdown",
   "metadata": {
    "collapsed": true
   },
   "source": [
    "# My Jupyter Notebook on IBM Watson Studio"
   ]
  },
  {
   "cell_type": "markdown",
   "metadata": {},
   "source": [
    "**Lydia**  <br>\n",
    "Writer, enthusiastic Kaggle contributor, traveler, Data Scientist"
   ]
  },
  {
   "cell_type": "markdown",
   "metadata": {},
   "source": [
    "*I am interested in data science because many informative treasures are hidden in data.*"
   ]
  },
  {
   "cell_type": "markdown",
   "metadata": {},
   "source": [
    "### What is the sum of my Kaggle notebooks, datasets, data science articles? Create a dictionary and check if my Kaggle dataset is in the dictionary:"
   ]
  },
  {
   "cell_type": "code",
   "execution_count": 2,
   "metadata": {},
   "outputs": [
    {
     "name": "stdout",
     "output_type": "stream",
     "text": [
      "{'My Kaggle Dataset': 2, 'My Kaggle Notebooks': 7, 'My Data Science Articles': 7}\n"
     ]
    },
    {
     "data": {
      "text/plain": [
       "True"
      ]
     },
     "execution_count": 2,
     "metadata": {},
     "output_type": "execute_result"
    }
   ],
   "source": [
    "my_kaggle_notebooks = 1+1+1+1+2+1\n",
    "my_kaggle_datasets = 1+1\n",
    "my_data_science_articles = 1+1+2+2+1\n",
    "\n",
    "my_dictionary = {'My Kaggle Dataset': my_kaggle_datasets, 'My Kaggle Notebooks': my_kaggle_notebooks, 'My Data Science Articles': my_data_science_articles}\n",
    "print(my_dictionary)\n",
    "\n",
    "'My Kaggle Dataset' in my_dictionary\n"
   ]
  },
  {
   "cell_type": "markdown",
   "metadata": {},
   "source": [
    "---\n",
    "I become a skilled data scientist with: \n",
    " - The Kaggle Data Science Community;\n",
    " - My Data Science Articles;\n",
    " - Coursera.\n",
    " \n",
    "***\n",
    "#### Lydia's Data Science Table \n",
    "***Name***|***Number***\n",
    ":----------|:------------\n",
    "my Kaggle datasets|2\n",
    "my Kaggle notebooks|7\n",
    "my data science articles|7\n",
    "\n",
    "***\n",
    "###### Link to my Kaggle dataset:\n",
    "[Link to my Kaggle Dataset](https://www.kaggle.com/lydia70/malaria-in-africa)\n",
    "\n",
    "***\n",
    "###### Insert an image: one of my trips to Yosemite National Park\n",
    "![alt text](https://lydiaslibraryhome.files.wordpress.com/2019/03/yosemite-1.jpg?w=768)\n"
   ]
  },
  {
   "cell_type": "code",
   "execution_count": null,
   "metadata": {},
   "outputs": [],
   "source": []
  }
 ],
 "metadata": {
  "kernelspec": {
   "display_name": "Python 3.7",
   "language": "python",
   "name": "python3"
  },
  "language_info": {
   "codemirror_mode": {
    "name": "ipython",
    "version": 3
   },
   "file_extension": ".py",
   "mimetype": "text/x-python",
   "name": "python",
   "nbconvert_exporter": "python",
   "pygments_lexer": "ipython3",
   "version": "3.7.9"
  }
 },
 "nbformat": 4,
 "nbformat_minor": 1
}
