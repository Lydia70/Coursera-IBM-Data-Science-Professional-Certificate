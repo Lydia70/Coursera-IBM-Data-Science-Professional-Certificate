{
 "cells": [
  {
   "cell_type": "markdown",
   "metadata": {},
   "source": [
    "# Data Science Methodology applied to Credit Cards"
   ]
  },
  {
   "cell_type": "markdown",
   "metadata": {},
   "source": [
    "This is my final assignment for course: Data Science Methodology. I had to choose from one of the 3 topic, including mails, hospitals, or credit cards. I choose credit card because I have a Master's degree in accounting and finance."
   ]
  },
  {
   "cell_type": "markdown",
   "metadata": {},
   "source": [
    "### Which topic did you choose to apply the data science methodology to?"
   ]
  },
  {
   "cell_type": "markdown",
   "metadata": {},
   "source": [
    "I choose topic: credit cards."
   ]
  },
  {
   "cell_type": "markdown",
   "metadata": {},
   "source": [
    "### Describe the problem and the question to be answered:"
   ]
  },
  {
   "cell_type": "markdown",
   "metadata": {},
   "source": [
    "Worldwide, the number of credit card accounts is growing. Some people are not able to pay off their credit card debt within a year. For banks, it is important to determine the creditworthiness of borrowers. If a customer is not able to meet the debt obligations, a bank should not issue a credit card to the particular customer.\n",
    "\n",
    "Banks should assess the customer's creditworthiness and must decide whether or not to issue a credit card to the applicant. Therefore, the question would be: Can banks, automatically, determine to what applicant they could issue a credit card?"
   ]
  },
  {
   "cell_type": "markdown",
   "metadata": {},
   "source": [
    "### Briefly explain how you would complete each of the stages for the problem that you described in the Business Understanding stage, so that you are ultimately able to answer the question that you came up with:"
   ]
  },
  {
   "cell_type": "markdown",
   "metadata": {},
   "source": [
    "Analytical Approach: In this stage, the question is how to use data to answer the question. The answer to issue a credit card to an applicant (with certain characteristics) could be a 'yes' or a 'no'. The question requires a yes/ no answer, so you should use a classification model. You can build a decision tree to determine if an applicant is issued a credit card. If the answer is 'yes', the applicant passed the assessment with its characteristics, and the applicant will be able to meet its debt obligations in the future.\n",
    "\n",
    "Data Requirements: A bank needs to collect personal data. Historical personal data, from applicants that are using a card that they have received in the past, could be useful to determine if a new applicant with comparable characteristics would be able to meet its debt obligations in the future. If 'yes', the new applicant could be issued a card.\n",
    "\n",
    "Data Collection: You are dealing with quite sensitive information. Data could be collected from various sources. For example, a bank can collect card transaction data from customers. Also, it has to collect data about personal characteristics, such as the age category, income category, gender, marital status, education level. Anonymous data (data on characteristics without names) could be collected through consulting with service representatives.\n",
    "\n",
    "Data Understanding and Preparation: After collecting the data, you need to understand the data you have collected and you are going to prepare the dataset. For the data understanding process, you should look at the data quality: descriptive statistics and missing values and misleading values. In this stage, data visualization could help. You can look at the distribution of variables by making a histogram (for age distribution, income, transaction data, education level). You can include univariate statistics by looking at the mean or median of variables and the minimum, maximum, and standard deviation (for numeric data such as transaction details, income, etc.). Store the values in a table where each row represents a customer and the column represents the variables such as personal characteristics and card transaction data.\n",
    "\n",
    "Modeling and Evaluation: In the modeling stage, you can build a machine learning model in Python with the scikit-learn package. In this case, you should use the Decision Tree Classifier from this package. The data should be split into a training set and a testing set. After the model has been built, the model needs to be evaluated and the model needs to be tested how accurate it is.\n"
   ]
  },
  {
   "cell_type": "markdown",
   "metadata": {},
   "source": [
    "**This is the end of the assignment.**"
   ]
  }
 ],
 "metadata": {
  "kernelspec": {
   "display_name": "Python 3",
   "language": "python",
   "name": "python3"
  },
  "language_info": {
   "codemirror_mode": {
    "name": "ipython",
    "version": 3
   },
   "file_extension": ".py",
   "mimetype": "text/x-python",
   "name": "python",
   "nbconvert_exporter": "python",
   "pygments_lexer": "ipython3",
   "version": "3.7.3"
  }
 },
 "nbformat": 4,
 "nbformat_minor": 2
}
